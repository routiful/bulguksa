{
  "nbformat": 4,
  "nbformat_minor": 0,
  "metadata": {
    "colab": {
      "name": "test.ipynb",
      "provenance": [],
      "collapsed_sections": [],
      "authorship_tag": "ABX9TyMuH/7yTNqt/feZwJ04mgMl",
      "include_colab_link": true
    },
    "kernelspec": {
      "name": "python3",
      "display_name": "Python 3"
    }
  },
  "cells": [
    {
      "cell_type": "markdown",
      "metadata": {
        "id": "view-in-github",
        "colab_type": "text"
      },
      "source": [
        "<a href=\"https://colab.research.google.com/github/routiful/bulguksa/blob/master/test.ipynb\" target=\"_parent\"><img src=\"https://colab.research.google.com/assets/colab-badge.svg\" alt=\"Open In Colab\"/></a>"
      ]
    },
    {
      "cell_type": "code",
      "metadata": {
        "id": "kCGjYPqXaBh1",
        "colab_type": "code",
        "outputId": "790d89d3-acd1-4e65-f0ca-d9152151d5c1",
        "colab": {
          "base_uri": "https://localhost:8080/",
          "height": 374
        }
      },
      "source": [
        "import numpy as np\n",
        "\n",
        "wPc = np.array([0.0, 0.0]) # current node\n",
        "wPn = np.array([10.0, 12.0]) # next node\n",
        "\n",
        "cPn = wPn - wPc\n",
        "print('cPn : {}'.format(cPn))\n",
        "\n",
        "cPn_norm = np.linalg.norm(cPn)\n",
        "\n",
        "for i in range(10):\n",
        "  cPr = np.array([i, i])\n",
        "  print('cPr : {}'.format(cPr))\n",
        "\n",
        "  projection_cPr_onto_cPn = ((np.dot(cPr, cPn)) / (cPn_norm * cPn_norm)) * cPn\n",
        "\n",
        "  print('projection_cPr_onto_cPn : {}'.format(projection_cPr_onto_cPn))\n",
        "\n",
        "\n",
        "\n",
        "\n"
      ],
      "execution_count": 22,
      "outputs": [
        {
          "output_type": "stream",
          "text": [
            "cPn : [10. 12.]\n",
            "cPr : [0 0]\n",
            "projection_cPr_onto_cPn : [0. 0.]\n",
            "cPr : [1 1]\n",
            "projection_cPr_onto_cPn : [0.90163934 1.08196721]\n",
            "cPr : [2 2]\n",
            "projection_cPr_onto_cPn : [1.80327869 2.16393443]\n",
            "cPr : [3 3]\n",
            "projection_cPr_onto_cPn : [2.70491803 3.24590164]\n",
            "cPr : [4 4]\n",
            "projection_cPr_onto_cPn : [3.60655738 4.32786885]\n",
            "cPr : [5 5]\n",
            "projection_cPr_onto_cPn : [4.50819672 5.40983607]\n",
            "cPr : [6 6]\n",
            "projection_cPr_onto_cPn : [5.40983607 6.49180328]\n",
            "cPr : [7 7]\n",
            "projection_cPr_onto_cPn : [6.31147541 7.57377049]\n",
            "cPr : [8 8]\n",
            "projection_cPr_onto_cPn : [7.21311475 8.6557377 ]\n",
            "cPr : [9 9]\n",
            "projection_cPr_onto_cPn : [8.1147541  9.73770492]\n"
          ],
          "name": "stdout"
        }
      ]
    },
    {
      "cell_type": "code",
      "metadata": {
        "id": "wWCyHjw4RVuA",
        "colab_type": "code",
        "colab": {
          "base_uri": "https://localhost:8080/",
          "height": 265
        },
        "outputId": "4e47f8dc-9942-452d-afd6-2ec92530c5f8"
      },
      "source": [
        "import matplotlib as mpl\n",
        "import matplotlib.pyplot as plt\n",
        "\n",
        "# x = np.linspace(0, 20, 1)\n",
        " \n",
        "plt.plot([wPc[0], wPn[0]], [wPc[1], wPn[1]])\n",
        "plt.plot([wPc[0], 10], [wPc[1],10])\n",
        "plt.plot([wPc[0], 8.1147541], [wPc[1], 9.73770492])\n",
        " \n",
        "plt.show()"
      ],
      "execution_count": 24,
      "outputs": [
        {
          "output_type": "display_data",
          "data": {
            "image/png": "[encoded data removed]",
            "text/plain": [
              "<Figure size 432x288 with 1 Axes>"
            ]
          },
          "metadata": {
            "tags": []
          }
        }
      ]
    }
  ]
}